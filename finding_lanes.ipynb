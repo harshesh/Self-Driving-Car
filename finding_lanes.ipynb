{
  "nbformat": 4,
  "nbformat_minor": 0,
  "metadata": {
    "colab": {
      "name": "finding_lanes.ipynb",
      "version": "0.3.2",
      "provenance": [],
      "include_colab_link": true
    },
    "kernelspec": {
      "display_name": "Python 3",
      "language": "python",
      "name": "python3"
    }
  },
  "cells": [
    {
      "cell_type": "markdown",
      "metadata": {
        "id": "view-in-github",
        "colab_type": "text"
      },
      "source": [
        "<a href=\"https://colab.research.google.com/github/harshesh/Self-Driving-Car/blob/master/finding_lanes.ipynb\" target=\"_parent\"><img src=\"https://colab.research.google.com/assets/colab-badge.svg\" alt=\"Open In Colab\"/></a>"
      ]
    },
    {
      "metadata": {
        "id": "3GznRXqlQjzW",
        "colab_type": "code",
        "colab": {}
      },
      "cell_type": "code",
      "source": [
        "import cv2\n",
        "import numpy as np\n",
        "import matplotlib.pyplot as plt"
      ],
      "execution_count": 0,
      "outputs": []
    },
    {
      "metadata": {
        "id": "JO_WgJr6Qjzf",
        "colab_type": "code",
        "colab": {}
      },
      "cell_type": "code",
      "source": [
        "def make_coordinates(image, line_parameters):\n",
        "    slope, intercept = line_parameters\n",
        "    y1 = image.shape[0]\n",
        "    y2 = int(y1*(3/5))\n",
        "    x1 = int((y1-intercept)/slope)\n",
        "    x2 = int((y2-intercept)/slope)\n",
        "    return np.array([x1, y1, x2, y2])"
      ],
      "execution_count": 0,
      "outputs": []
    },
    {
      "metadata": {
        "id": "MHm24G-SQjzk",
        "colab_type": "code",
        "colab": {}
      },
      "cell_type": "code",
      "source": [
        "def average_slope_intercept(image, lines):\n",
        "    left_fit = []\n",
        "    right_fit = []\n",
        "    for line in lines:\n",
        "        x1, y1, x2, y2 = line.reshape(4)\n",
        "        parameters = np.polyfit((x1, x2), (y1, y2), 1)\n",
        "        slop = parameters[0]\n",
        "        intercept = parameters[1]\n",
        "        if slop < 0:\n",
        "            left_fit.append((slop, intercept))\n",
        "        else:\n",
        "            right_fit.append((slop, intercept))\n",
        "    left_fit_average = np.average(left_fit, axis = 0)\n",
        "    right_fit_average = np.average(right_fit, axis = 0)\n",
        "    left_line = make_coordinates(image, left_fit_average)\n",
        "    right_line = make_coordinates(image, right_fit_average)\n",
        "    return np.array([left_line, right_line])"
      ],
      "execution_count": 0,
      "outputs": []
    },
    {
      "metadata": {
        "id": "PBaRWTU5Qjzp",
        "colab_type": "code",
        "colab": {}
      },
      "cell_type": "code",
      "source": [
        "def canny(image):\n",
        "    gray = cv2.cvtColor(image, cv2.COLOR_RGB2GRAY)\n",
        "    blur = cv2.GaussianBlur(gray, (5, 5), 0)\n",
        "    canny = cv2.Canny(blur, 50, 150)\n",
        "    return canny"
      ],
      "execution_count": 0,
      "outputs": []
    },
    {
      "metadata": {
        "id": "FeXMxZvHQjzv",
        "colab_type": "code",
        "colab": {}
      },
      "cell_type": "code",
      "source": [
        "def display_lines(image, lines):\n",
        "    line_image = np.zeros_like(image)\n",
        "    if lines is not None:\n",
        "        for x1, y1, x2, y2 in lines:\n",
        "            cv2.line(line_image, (x1, y1), (x2, y2), (255, 0, 0), 10)\n",
        "    return line_image"
      ],
      "execution_count": 0,
      "outputs": []
    },
    {
      "metadata": {
        "id": "b4l7dzpTQjz2",
        "colab_type": "code",
        "colab": {}
      },
      "cell_type": "code",
      "source": [
        "def region_of_interest(image):\n",
        "    height = image.shape[0]\n",
        "    polygons = np.array([\n",
        "    [(200, height),(1100, height), (550, 250)]\n",
        "    ])\n",
        "    mask = np.zeros_like(image)\n",
        "    cv2.fillPoly(mask, polygons, 255)\n",
        "    masked_image = cv2.bitwise_and(image, mask)\n",
        "    return masked_image"
      ],
      "execution_count": 0,
      "outputs": []
    },
    {
      "metadata": {
        "id": "h2Ia-B8OQjz6",
        "colab_type": "code",
        "colab": {}
      },
      "cell_type": "code",
      "source": [
        "#image = cv2.imread('test_image.jpg')\n",
        "#lane_image = np.copy(image)\n",
        "#canny_image = canny(lane_image)\n",
        "#cropped_image = region_of_interest(canny_image)\n",
        "#lines = cv2.HoughLinesP(cropped_image, 2, np.pi/180, 100, np.array([]), minLineLength = 40, maxLineGap = 5)\n",
        "#average_lines = average_slope_intercept(lane_image, lines)\n",
        "#line_image = display_lines(lane_image, average_lines)\n",
        "#combo_image = cv2.addWeighted(lane_image, 0.8, line_image, 1, 1)"
      ],
      "execution_count": 0,
      "outputs": []
    },
    {
      "metadata": {
        "id": "uGQGNZfYQjz-",
        "colab_type": "code",
        "colab": {}
      },
      "cell_type": "code",
      "source": [
        "cap = cv2.VideoCapture(\"name.mp4\")\n",
        "while(cap.isOpened()):\n",
        "    _, frame = cap.read()\n",
        "    canny_image = canny(frame)\n",
        "    cropped_image = region_of_interest(canny_image)\n",
        "    lines = cv2.HoughLinesP(cropped_image, 2, np.pi/180, 100, np.array([]), minLineLength = 40, maxLineGap = 5)\n",
        "    average_lines = average_slope_intercept(frame, lines)\n",
        "    line_image = display_lines(frame, average_lines)\n",
        "    combo_image = cv2.addWeighted(frame, 0.8, line_image, 1, 1)\n",
        "    cv2.imshow('result', combo_image)\n",
        "    if cv2.waitKey(1) == ord('q'):\n",
        "        break\n",
        "cap.release()\n",
        "cv2.destroyAllWindows()"
      ],
      "execution_count": 0,
      "outputs": []
    },
    {
      "metadata": {
        "id": "r0lt10mcQj0H",
        "colab_type": "code",
        "colab": {}
      },
      "cell_type": "code",
      "source": [
        ""
      ],
      "execution_count": 0,
      "outputs": []
    },
    {
      "metadata": {
        "id": "ZMEOw2WRQj0M",
        "colab_type": "code",
        "colab": {}
      },
      "cell_type": "code",
      "source": [
        ""
      ],
      "execution_count": 0,
      "outputs": []
    }
  ]
}